{
 "cells": [
  {
   "cell_type": "code",
   "execution_count": 1,
   "metadata": {},
   "outputs": [],
   "source": [
    "import numpy as np\n",
    "import matplotlib.pyplot as plt\n",
    "from matplotlib.colors import ListedColormap\n",
    "import netCDF4 as nc\n",
    "import itertools\n",
    "import cloud_generator_library as cl "
   ]
  },
  {
   "cell_type": "markdown",
   "metadata": {},
   "source": [
    "# Test example"
   ]
  },
  {
   "cell_type": "code",
   "execution_count": 2,
   "metadata": {},
   "outputs": [],
   "source": [
    "cc = np.array([0.1, 0.2, 0.2, 0, 0.4, 0.3, 0, 0, 0.1, 0])[::-1]\n",
    "lwc = np.array([0.05, 0.07, 0.01, 0, 0.1, 0.2, 0, 0, 0.04, 0])[::-1]\n",
    "iwc = np.array([0.05, 0.07, 0.01, 0, 0.1, 0.2, 0, 0, 0.04, 0])[::-1]\n",
    "H = np.array([1, 3, 7, 10, 14, 19, 25, 32, 40, 50])[::-1]"
   ]
  },
  {
   "cell_type": "code",
   "execution_count": 3,
   "metadata": {},
   "outputs": [],
   "source": [
    "# Compute the correlation lengths of cloud cover and liquid water content\n",
    "alpha = cl.correlation_param(H, 1.6)\n",
    "lwc_corr = cl.correlation_param(H, 0.8)"
   ]
  },
  {
   "cell_type": "code",
   "execution_count": 4,
   "metadata": {},
   "outputs": [
    {
     "data": {
      "text/plain": [
       "Text(0, 0.5, 'z')"
      ]
     },
     "execution_count": 4,
     "metadata": {},
     "output_type": "execute_result"
    },
    {
     "data": {
      "image/png": "[encoded data removed]",
      "text/plain": [
       "<Figure size 1200x600 with 1 Axes>"
      ]
     },
     "metadata": {},
     "output_type": "display_data"
    }
   ],
   "source": [
    "method = \"max-ran\"\n",
    "f_zoom = 5\n",
    "\n",
    "c_function, p_function = cl.get_cumulative_cc(method, cc, alpha)\n",
    "cc_matrix, lwc_matrix, iwc_matrix = cl.fill_cloudy_layers(f_zoom, c_function, p_function, cc, lwc, iwc, lwc_corr)\n",
    "\n",
    "fig, ax = plt.subplots(facecolor = 'w', figsize = (12,6))\n",
    "\n",
    "ax.imshow(cc_matrix.T, cmap = 'Blues')\n",
    "\n",
    "ax.set_xticks([])\n",
    "ax.set_yticks([])\n",
    "ax.set_xticklabels([])\n",
    "ax.set_yticklabels([])\n",
    "ax.set_yticks(np.arange(-0.5, len(cc)-0.4,1.0))\n",
    "ax.set_xticks(np.arange(-0.5, f_zoom * f_zoom - 0.4))\n",
    "ax.grid()\n",
    "ax.set_title(\"Cloudy pixels\", fontsize=24)\n",
    "ax.set_xlabel(\"x, y\", fontsize=20)\n",
    "ax.set_ylabel(\"z\", fontsize=20)\n"
   ]
  },
  {
   "cell_type": "markdown",
   "metadata": {},
   "source": [
    "# Application to ERA5 reanalysis data"
   ]
  },
  {
   "cell_type": "markdown",
   "metadata": {},
   "source": [
    "This is an example on how to convert the \"ERA5 hourly data on pressure levels from 1940 to present\" using the 3D CG. The dataset can be downloaded at the link: https://cds.climate.copernicus.eu/datasets/reanalysis-era5-pressure-levels?tab=overview"
   ]
  },
  {
   "cell_type": "code",
   "execution_count": null,
   "metadata": {},
   "outputs": [],
   "source": [
    "method = 'exp-ran'\n",
    "f_zoom = 3\n",
    " \n",
    "# Replace with the name of the dataset downloaded from the ERA5 website\n",
    "fname = \"2023_01_15_T22.nc\"\n",
    "\n",
    "data = nc.Dataset(fname, \"r\", format='NETCDF4')\n",
    "\n",
    "clwc_ERA5 = data.variables[\"clwc\"][0]\n",
    "ciwc_ERA5 = data.variables[\"ciwc\"][0]\n",
    "cc_ERA5 = data.variables[\"cc\"][0]\n",
    "\n",
    "# Define new latitude and longitude cell numbers\n",
    "nlat_old = len(data.variables[\"latitude\"])\n",
    "nlon_old = len(data.variables[\"longitude\"])\n",
    "nlev = len(data.variables[\"level\"])\n",
    "nlat = nlat_old * f_zoom\n",
    "nlon = nlon_old * f_zoom\n",
    "\n",
    "# Create new dataset \n",
    "f = nc.Dataset(\"data_upscaled_x%d_%s.nc\"%(f_zoom, method), \"w\", format='NETCDF4')\n",
    "\n",
    "f.createDimension(\"longitude\",len(data.dimensions[\"longitude\"]) * f_zoom)\n",
    "f.createDimension(\"latitude\",len(data.dimensions[\"latitude\"]) * f_zoom)\n",
    "f.createDimension(\"level\", len(data.dimensions[\"level\"]))\n",
    "\n",
    "longitude = f.createVariable(\"longitude\", \"f4\", \"longitude\")\n",
    "latitude = f.createVariable(\"latitude\", \"f4\", \"latitude\")  \n",
    "level = f.createVariable(\"level\", \"f4\", \"level\")  \n",
    "\n",
    "longitude[:] = np.arange(0, 360, 360 / nlon) \n",
    "latitude[:] = np.linspace(90,-90, nlat) \n",
    "level = data.variables[\"level\"][:]\n",
    "\n",
    "cc = f.createVariable(\"cc\",\"f4\",(\"latitude\", \"longitude\", \"level\"))\n",
    "ciwc = f.createVariable(\"ciwc\",\"f4\",(\"latitude\", \"longitude\", \"level\"))\n",
    "clwc = f.createVariable(\"clwc\",\"f4\",(\"latitude\", \"longitude\", \"level\"))\n",
    "\n",
    "z_level = np.loadtxt('ECMWF_37_levels.dat')[:,2] # ECMWF model levels in km\n",
    "\n",
    "cos_lat = np.cos(np.radians(data.variables[\"latitude\"][:]))\n",
    "\n",
    "# Iterate over the whole globe\n",
    "for i, j in itertools.product(range(int(nlat_old/4)), range(int(nlon_old/4))):\n",
    "    # Compute decorrelation length once per latitude\n",
    "    if j == 0:\n",
    "        decorr_length = 0.75 + 2.149 * cos_lat[i]**2\n",
    "        alpha = cl.correlation_param(z_level, decorr_length)\n",
    "        lwc_corr = cl.correlation_param(z_level, 0.5 * decorr_length)\n",
    "        print(\"%d / %d\"%(i+1, nlat_old))\n",
    "\n",
    "    # Perform calculations for each longitude\n",
    "    c_function, p_function = cl.get_cumulative_cc(method, cc_ERA5[:, i, j], alpha)\n",
    "    cc_matrix, lwc_matrix, iwc_matrix = cl.fill_cloudy_layers(\n",
    "        f_zoom, c_function, p_function, cc_ERA5[:, i, j],\n",
    "        clwc_ERA5[:, i, j], ciwc_ERA5[:, i, j], lwc_corr\n",
    "    )\n",
    "\n",
    "    # Assign results to output arrays\n",
    "    cc[i*f_zoom:(i+1)*f_zoom, j*f_zoom:(j+1)*f_zoom] = np.reshape(cc_matrix, (f_zoom, f_zoom, nlev))\n",
    "    clwc[i*f_zoom:(i+1)*f_zoom, j*f_zoom:(j+1)*f_zoom] = np.reshape(lwc_matrix, (f_zoom, f_zoom, nlev))\n",
    "    ciwc[i*f_zoom:(i+1)*f_zoom, j*f_zoom:(j+1)*f_zoom] = np.reshape(iwc_matrix, (f_zoom, f_zoom, nlev))\n",
    "\n",
    "f.close()"
   ]
  }
 ],
 "metadata": {
  "kernelspec": {
   "display_name": "myenv",
   "language": "python",
   "name": "python3"
  },
  "language_info": {
   "codemirror_mode": {
    "name": "ipython",
    "version": 3
   },
   "file_extension": ".py",
   "mimetype": "text/x-python",
   "name": "python",
   "nbconvert_exporter": "python",
   "pygments_lexer": "ipython3",
   "version": "3.9.21"
  }
 },
 "nbformat": 4,
 "nbformat_minor": 2
}
